{
 "cells": [
  {
   "cell_type": "markdown",
   "metadata": {},
   "source": [
    "# Use Case: Load msdyn_projects\n"
   ]
  },
  {
   "cell_type": "markdown",
   "metadata": {},
   "source": [
    "## Create Parameters\n"
   ]
  },
  {
   "cell_type": "code",
   "execution_count": null,
   "metadata": {
    "vscode": {
     "languageId": "powerquery"
    }
   },
   "outputs": [],
   "source": [
    "///Environment (adjust the name of the Dataverse connection)\n",
    "\"[yourcompany].crm4.dynamics.com\" meta [IsParameterQuery=true, Type=\"Text\", IsParameterQueryRequired=true]"
   ]
  },
  {
   "cell_type": "code",
   "execution_count": null,
   "metadata": {
    "vscode": {
     "languageId": "powerquery"
    }
   },
   "outputs": [],
   "source": [
    "/// Table\n",
    "\"msdyn_project\" meta [IsParameterQuery=true, Type=\"Text\", IsParameterQueryRequired=true]"
   ]
  },
  {
   "cell_type": "markdown",
   "metadata": {},
   "source": [
    "## Add Function\n",
    "\n",
    "Add this function to a blank query\n"
   ]
  },
  {
   "cell_type": "code",
   "execution_count": null,
   "metadata": {
    "vscode": {
     "languageId": "powerquery"
    }
   },
   "outputs": [],
   "source": [
    "/// Function\n",
    "let\n",
    "    Source = (Environment as text, Table as text) => let\n",
    "        Source = CommonDataService.Database(Environment, [CreateNavigationProperties=false]),\n",
    "        msdyn_table = Source{[Schema=\"dbo\",Item=Table]}[Data],\n",
    "        #\"Removed Other Columns\" = Table.SelectColumns(msdyn_table,{\"msdyn_projectid\", \"createdon\", \"createdby\", \"modifiedon\", \"modifiedby\", \"createdbyname\", \"modifiedbyname\", \"ownerid\", \"owneridname\", \"owningbusinessunit\", \"statecode\", \"statecodename\", \"statuscode\", \"statuscodename\", \"msdyn_subject\", \"msdyn_duration\", \"msdyn_effort\", \"msdyn_effortcompleted\", \"msdyn_effortremaining\", \"msdyn_finish\", \"msdyn_projectmanager\", \"msdyn_description\", \"msdyn_actualsales\", \"msdyn_actualsales_base\", \"msdyn_actualstart\", \"msdyn_customer\", \"msdyn_exchangerate\", \"msdyn_overallprojectstatus\", \"msdyn_overallprojectstatusname\", \"msdyn_totalactualcost\", \"msdyn_totalactualcost_base\", \"msdyn_totalactualsales\", \"msdyn_totalactualsales_base\"}),\n",
    "        #\"Renamed Columns\" = Table.RenameColumns(#\"Removed Other Columns\",{{\"createdon\", \"Created On\"}, {\"createdby\", \"Created By\"}})\n",
    "    in\n",
    "        #\"Renamed Columns\"\n",
    "in\n",
    "    Source"
   ]
  }
 ],
 "metadata": {
  "language_info": {
   "name": "python"
  }
 },
 "nbformat": 4,
 "nbformat_minor": 2
}
